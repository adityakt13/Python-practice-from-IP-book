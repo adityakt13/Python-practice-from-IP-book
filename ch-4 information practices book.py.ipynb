{
 "cells": [
  {
   "cell_type": "code",
   "execution_count": 1,
   "id": "d9f56b7f",
   "metadata": {},
   "outputs": [],
   "source": [
    "def SeeYou() :\n",
    "    print(\"time to say Good Bye !!\")\n",
    "def Hi ():\n",
    "    print(\"Welcome to this code\")"
   ]
  },
  {
   "cell_type": "code",
   "execution_count": 2,
   "id": "71d3628e",
   "metadata": {},
   "outputs": [
    {
     "name": "stdout",
     "output_type": "stream",
     "text": [
      "Welcome to this code\n",
      "18\n",
      "Value of 'a' was 15 or less initially.\n",
      "time to say Good Bye !!\n"
     ]
    }
   ],
   "source": [
    "Hi()\n",
    "a = 15\n",
    "b = a-10\n",
    "print (a+3)\n",
    "if b>5 :\n",
    "    print (\"Value of 'a' was more than 15 initially.\")\n",
    "else :\n",
    "    print (\"Value of 'a' was 15 or less initially.\")\n",
    "SeeYou()"
   ]
  },
  {
   "cell_type": "code",
   "execution_count": 3,
   "id": "9f87ae6c",
   "metadata": {},
   "outputs": [
    {
     "name": "stdout",
     "output_type": "stream",
     "text": [
      "Enter your name - Aditya Kumar Tripathi\n",
      "Enter your age - 20\n",
      "My name is Aditya Kumar Tripathi and my age is 20 . \n"
     ]
    }
   ],
   "source": [
    "name= input(\"Enter your name - \")\n",
    "age = int(input(\"Enter your age - \"))\n",
    "print(\"My name is {} and my age is {} . \".format(name , age))"
   ]
  },
  {
   "cell_type": "code",
   "execution_count": 4,
   "id": "731fc901",
   "metadata": {},
   "outputs": [
    {
     "name": "stdout",
     "output_type": "stream",
     "text": [
      "Five consecutive ages are - 13('^') 14('^') 15('^') 16('^') 17 respectively\n"
     ]
    }
   ],
   "source": [
    "##changing the value of seperator using sep argument\n",
    "print(\"Five consecutive ages are - \" \"13\", \"14\", \"15\", \"16\", \"17\" \" respectively\" , sep=\"('^') \")\n"
   ]
  },
  {
   "cell_type": "code",
   "execution_count": 5,
   "id": "d92e252e",
   "metadata": {},
   "outputs": [
    {
     "name": "stdout",
     "output_type": "stream",
     "text": [
      "a= 20 b= 30\n"
     ]
    }
   ],
   "source": [
    "a=20\n",
    "b=30\n",
    "print(\"a=\",a ,end='')\n",
    "print(\" b=\",b)"
   ]
  },
  {
   "cell_type": "code",
   "execution_count": 6,
   "id": "696b58c2",
   "metadata": {},
   "outputs": [
    {
     "name": "stdout",
     "output_type": "stream",
     "text": [
      "Enter the first number: 12\n",
      "Enter the second number: 12\n",
      "Enter the third number: 14\n",
      "The sum of these three numbers is: 38\n"
     ]
    }
   ],
   "source": [
    "# program to obtain three numbers and printing their sum\n",
    "num1=int(input(\"Enter the first number: \"))\n",
    "num2=int(input(\"Enter the second number: \"))\n",
    "num3=int(input(\"Enter the third number: \"))\n",
    "Sum= num1+num2+num3\n",
    "print(\"The sum of these three numbers is:\",Sum)"
   ]
  },
  {
   "cell_type": "code",
   "execution_count": 7,
   "id": "03ae1f90",
   "metadata": {},
   "outputs": [
    {
     "name": "stdout",
     "output_type": "stream",
     "text": [
      "Enter the first number: 13\n",
      "Enter the second number: 14\n",
      "Enter the third number: 15\n",
      "First number is 13, Second number is 14, Third number is 15\n",
      "The sum of these three numbers is - 42\n"
     ]
    }
   ],
   "source": [
    "num1=int(input(\"Enter the first number: \"))\n",
    "num2=int(input(\"Enter the second number: \"))\n",
    "num3=int(input(\"Enter the third number: \"))\n",
    "Sum= num1+num2+num3\n",
    "print (\"First number is\",num1,end='')\n",
    "print (\", Second number is\",num2,end='')\n",
    "print(\", Third number is\",num3)\n",
    "print(\"The sum of these three numbers is -\",Sum)"
   ]
  },
  {
   "cell_type": "code",
   "execution_count": 8,
   "id": "6eabf8bc",
   "metadata": {},
   "outputs": [
    {
     "name": "stdout",
     "output_type": "stream",
     "text": [
      "Enter the length- 13\n",
      "Enter the breadth- 10\n",
      "Length= 13 Breadth= 10\n",
      "Area= 130\n"
     ]
    }
   ],
   "source": [
    "# printing area of square\n",
    "length= int(input(\"Enter the length- \"))\n",
    "breadth= int(input(\"Enter the breadth- \"))\n",
    "area= length * breadth\n",
    "print ('Length=', length,end='')\n",
    "print(' Breadth=', breadth) \n",
    "print (\"Area=\",area)"
   ]
  },
  {
   "cell_type": "code",
   "execution_count": 9,
   "id": "b8c5807b",
   "metadata": {},
   "outputs": [
    {
     "name": "stdout",
     "output_type": "stream",
     "text": [
      "Enter the item: television\n",
      "Enter the price of television: 70000\n",
      "Enter the rate of GST (%) of television: 12\n",
      "\tINVOICE\n",
      "ITEM:  television\n",
      "Price:  70000\n",
      "CGST @ ( 6.0 %):  4200.0\n",
      "SGST @ ( 6.0 %):  4200.0\n",
      "Amount Payable:  78400.0\n",
      "Thankyou for shopping with us.\n",
      "       Visit Again!\n"
     ]
    }
   ],
   "source": [
    "# printing the item , selling price,gst(sgst,cgst),invoice at the top, amount payable\n",
    "item=input(\"Enter the item: \")\n",
    "sp=int(input(\"Enter the price of \"+ item +\": \"))\n",
    "gst=int(input(\"Enter the rate of GST (%) of \"+ item +\": \" ))\n",
    "cgst = sp*((gst/2)/100)\n",
    "sgst = cgst\n",
    "amount = cgst +sgst +sp\n",
    "\n",
    "print(\"\\tINVOICE\")\n",
    "print (\"ITEM: \",item)\n",
    "print (\"Price: \",sp)\n",
    "print(\"CGST @ (\", gst/2 ,\"%): \",cgst)\n",
    "print(\"SGST @ (\", gst/2 ,\"%): \",sgst)\n",
    "print(\"Amount Payable: \",amount)\n",
    "\n",
    "print (\"Thankyou for shopping with us.\")\n",
    "print(\"       Visit Again!\")"
   ]
  },
  {
   "cell_type": "code",
   "execution_count": 11,
   "id": "5329bd94",
   "metadata": {},
   "outputs": [
    {
     "name": "stdout",
     "output_type": "stream",
     "text": [
      "Enter the item: Fridge\n",
      "Enter the selling price of Fridge: 112000\n",
      "Enter GST rate (%): 18\n",
      "\tINVOICE\n",
      "ITEM:  Fridge\n",
      "PRICE:  112000.0\n",
      "CGST @( 9.0 %):  10080.0\n",
      "SGST @( 9.0 %):  10080.0\n",
      "Amount Payable:  132160.0\n",
      "Thankyou, visit again!\n"
     ]
    }
   ],
   "source": [
    "# print the amount and buying price of an item along with cgst and sgst\n",
    "item=input(\"Enter the item: \")\n",
    "sp=float(input(\"Enter the selling price of \" +item + \": \"))\n",
    "gst= float(input(\"Enter GST rate (%): \"))\n",
    "cgst = sp*((gst/2)/100)\n",
    "sgst=cgst\n",
    "amount = sgst +cgst+ sp\n",
    "\n",
    "print(\"\\tINVOICE\")\n",
    "print(\"ITEM: \",item)\n",
    "print(\"PRICE: \",sp)\n",
    "print(\"CGST @(\",(gst/2),\"%): \",cgst)\n",
    "print(\"SGST @(\",(gst/2),\"%): \",sgst)\n",
    "print (\"Amount Payable: \",amount)\n",
    "print (\"Thankyou, visit again!\")"
   ]
  },
  {
   "cell_type": "code",
   "execution_count": 5,
   "id": "4c624752",
   "metadata": {},
   "outputs": [
    {
     "name": "stdout",
     "output_type": "stream",
     "text": [
      "Enter the item: Toyota Fortuner\n",
      "Enter the price of Toyota Fortuner:4400000\n",
      "Enter the GST rate(%)18\n",
      "\tINVOICE\n",
      "ITEM:  Toyota Fortuner\n",
      "PRICE:  4400000\n",
      "CGST @ ( 9.0 %) 396000.0\n",
      "SGST @ ( 9.0 %) 396000.0\n",
      "INSURANCE:  88000.0\n",
      "AMOUNT PAYABLE:  5280000.0\n",
      "Thankyou for shopping with sunny TOYOTA.\n",
      "             Visit again!\n"
     ]
    }
   ],
   "source": [
    "item=input(\"Enter the item: \")\n",
    "sp= int(input(\"Enter the price of \" +item + \":\"))\n",
    "gst= int(input(\"Enter the GST rate(%)\"))\n",
    "insr= ((sp/100)*2)\n",
    "sgst= sp* ((gst/2)/100)\n",
    "cgst= sp* ((gst/2)/100)\n",
    "amount= sgst+ cgst +sp+insr\n",
    "\n",
    "print (\"\\tINVOICE\")\n",
    "print (\"ITEM: \",item)\n",
    "print (\"PRICE: \",sp)\n",
    "print (\"CGST @ (\" ,gst/2, \"%)\",cgst)\n",
    "print (\"SGST @ (\" ,gst/2, \"%)\",sgst)\n",
    "print(\"INSURANCE: \",insr)\n",
    "print(\"AMOUNT PAYABLE: \",amount)\n",
    "print ('''Thankyou for shopping with sunny TOYOTA.\n",
    "             Visit again!''')"
   ]
  },
  {
   "cell_type": "markdown",
   "id": "59a1a325",
   "metadata": {},
   "source": [
    "# solved problems"
   ]
  },
  {
   "cell_type": "code",
   "execution_count": 13,
   "id": "45eb93f9",
   "metadata": {},
   "outputs": [
    {
     "name": "stdout",
     "output_type": "stream",
     "text": [
      "My name is  Aditya\n"
     ]
    }
   ],
   "source": [
    "# 13\n",
    "name= \"Aditya\"\n",
    "print(\"My name is \",name)"
   ]
  },
  {
   "cell_type": "code",
   "execution_count": 1,
   "id": "6fee365f",
   "metadata": {},
   "outputs": [
    {
     "name": "stdout",
     "output_type": "stream",
     "text": [
      "Enter number: 23\n",
      "Double the number of number is:  46\n"
     ]
    }
   ],
   "source": [
    "#14 and 15\n",
    "number=int(input(\"Enter number: \"))\n",
    "DoubleTheNumber= number*2\n",
    "print(\"Double the number of number is: \" ,DoubleTheNumber)"
   ]
  },
  {
   "cell_type": "code",
   "execution_count": 15,
   "id": "7850d154",
   "metadata": {},
   "outputs": [
    {
     "name": "stdout",
     "output_type": "stream",
     "text": [
      "Greetings!!!\n",
      "Hello  Rehman\n",
      "Hoe do you do?\n"
     ]
    }
   ],
   "source": [
    "#16\n",
    "name=\"Rehman\"\n",
    "print (\"Greetings!!!\")\n",
    "print(\"Hello \",name)\n",
    "print(\"Hoe do you do?\")"
   ]
  },
  {
   "cell_type": "code",
   "execution_count": 18,
   "id": "3d8232eb",
   "metadata": {},
   "outputs": [
    {
     "name": "stdout",
     "output_type": "stream",
     "text": [
      "Enter cost of goods sold: 32000\n",
      "Enter revenue amount: 42000\n",
      "Cost of goods sold:  32000.0\n",
      "Revenue from selling goods:  42000.0\n",
      "Profit:  10000.0\n",
      "Profit%:  31.25\n"
     ]
    }
   ],
   "source": [
    "#17\n",
    "'''\n",
    "cgos : cost of goods sold\n",
    "revenue: amount at which goods are sold\n",
    "pl : profit or loss\n",
    "'''\n",
    "cgos=float(input(\"Enter cost of goods sold: \"))\n",
    "revenue=float(input(\"Enter revenue amount: \"))\n",
    "pl = revenue-cgos\n",
    "profit_prct= pl/cgos*100\n",
    "\n",
    "print(\"Cost of goods sold: \",cgos)\n",
    "print(\"Revenue from selling goods: \",revenue)\n",
    "print(\"Profit: \",pl)\n",
    "print(\"Profit%: \",profit_prct)"
   ]
  },
  {
   "cell_type": "markdown",
   "id": "6ff4c67a",
   "metadata": {},
   "source": [
    "# assignment"
   ]
  },
  {
   "cell_type": "code",
   "execution_count": 19,
   "id": "5ebff1cb",
   "metadata": {},
   "outputs": [
    {
     "name": "stdout",
     "output_type": "stream",
     "text": [
      "Value of a and b is  30 and 50 respectively\n"
     ]
    }
   ],
   "source": [
    "#2(ii)\n",
    "a=30\n",
    "b=a+20\n",
    "print (\"Value of a and b is \",a ,\"and\",b,\"respectively\")"
   ]
  },
  {
   "cell_type": "code",
   "execution_count": 22,
   "id": "f7e4499c",
   "metadata": {},
   "outputs": [
    {
     "name": "stdout",
     "output_type": "stream",
     "text": [
      "2 8 9\n",
      "9 8 2\n"
     ]
    }
   ],
   "source": [
    "#(iii)\n",
    "a,b,c= 2,8,9\n",
    "print(a,b,c)\n",
    "c,b,a=a,b,c\n",
    "print(a,b,c)"
   ]
  },
  {
   "cell_type": "code",
   "execution_count": 24,
   "id": "de69f2d0",
   "metadata": {},
   "outputs": [
    {
     "name": "stdout",
     "output_type": "stream",
     "text": [
      "x=\n"
     ]
    }
   ],
   "source": [
    "#(v)\n",
    "print(\"x=\")"
   ]
  },
  {
   "cell_type": "code",
   "execution_count": 27,
   "id": "1d355122",
   "metadata": {},
   "outputs": [
    {
     "name": "stdout",
     "output_type": "stream",
     "text": [
      "15\n",
      "13 22\n"
     ]
    }
   ],
   "source": [
    "#3(i)\n",
    "x=10\n",
    "x=x+10\n",
    "x=x-5\n",
    "print(x)\n",
    "x,y=x-2,22\n",
    "print(x,y)"
   ]
  },
  {
   "cell_type": "code",
   "execution_count": 29,
   "id": "ca507a82",
   "metadata": {},
   "outputs": [
    {
     "name": "stdout",
     "output_type": "stream",
     "text": [
      "2 3 6\n",
      "11 3 14\n"
     ]
    }
   ],
   "source": [
    "# (ii)\n",
    "first=2\n",
    "second=3\n",
    "third=first*second\n",
    "print(first,second,third)\n",
    "first=first+second+third\n",
    "third = second+first\n",
    "print(first,second,third)"
   ]
  },
  {
   "cell_type": "code",
   "execution_count": 34,
   "id": "20cd852f",
   "metadata": {},
   "outputs": [
    {
     "name": "stdout",
     "output_type": "stream",
     "text": [
      "side: 13\n",
      "if side is: 13 , then ares will be: 169\n"
     ]
    }
   ],
   "source": [
    "# (iii)\n",
    "side=int(input(\"side: \"))\n",
    "area=side * side\n",
    "print(\"if side is:\",side, \", then ares will be:\",area)"
   ]
  },
  {
   "cell_type": "code",
   "execution_count": 36,
   "id": "9b6ebadb",
   "metadata": {},
   "outputs": [
    {
     "name": "stdout",
     "output_type": "stream",
     "text": [
      "Your name and age are: Prejith , 26\n"
     ]
    }
   ],
   "source": [
    "#4 (ii)\n",
    "name= \"Prejith\"\n",
    "age=26\n",
    "print(\"Your name and age are:\", name,\",\",age)"
   ]
  },
  {
   "cell_type": "code",
   "execution_count": 40,
   "id": "441337ea",
   "metadata": {},
   "outputs": [
    {
     "name": "stdout",
     "output_type": "stream",
     "text": [
      "value1:89\n",
      "89.0\n"
     ]
    }
   ],
   "source": [
    "#19\n",
    "print (float(input(\"value1:\")))"
   ]
  },
  {
   "cell_type": "code",
   "execution_count": 43,
   "id": "47c509f2",
   "metadata": {},
   "outputs": [
    {
     "name": "stdout",
     "output_type": "stream",
     "text": [
      "Input days: 1\n",
      "Input hours: 2\n",
      "Input minutes: 3\n",
      "Input seconds: 4\n",
      "the amount of seconds:  93784\n"
     ]
    }
   ],
   "source": [
    "#20\n",
    "days=int(input(\"Input days: \")) *3600*24\n",
    "hours=int(input(\"Input hours: \"))*3600\n",
    "minutes=int(input(\"Input minutes: \"))*60\n",
    "seconds=int(input(\"Input seconds: \"))\n",
    "time= days+hours+minutes+seconds\n",
    "print (\"the amount of seconds: \",time)"
   ]
  },
  {
   "cell_type": "markdown",
   "id": "a3ab84ce",
   "metadata": {},
   "source": [
    "# Practice questions"
   ]
  },
  {
   "cell_type": "code",
   "execution_count": 50,
   "id": "acf970d1",
   "metadata": {},
   "outputs": [
    {
     "name": "stdout",
     "output_type": "stream",
     "text": [
      "Why is 6 afraid of 7? \n",
      "Press enter\n",
      "because 7 8 (ate) 9:-)\n"
     ]
    }
   ],
   "source": [
    "#1\n",
    "print(\"Why is 6 afraid of 7? \")\n",
    "input(\"Press enter\")\n",
    "print(\"because 7 8 (ate) 9:-)\")"
   ]
  },
  {
   "cell_type": "code",
   "execution_count": 54,
   "id": "bd731b02",
   "metadata": {},
   "outputs": [
    {
     "name": "stdout",
     "output_type": "stream",
     "text": [
      "Enter today's date: 21\n",
      "Total number of days in this month: 31\n",
      "10 days are remaining in this month.\n"
     ]
    }
   ],
   "source": [
    "#2\n",
    "day= int(input (\"Enter today's date: \"))\n",
    "total_days = int(input (\"Total number of days in this month: \"))\n",
    "days_remaining= total_days - day\n",
    "print(days_remaining ,\"days are remaining in this month.\")"
   ]
  },
  {
   "cell_type": "code",
   "execution_count": 55,
   "id": "893aa7b5",
   "metadata": {},
   "outputs": [
    {
     "name": "stdout",
     "output_type": "stream",
     "text": [
      "5\n",
      "10\n",
      "9\n"
     ]
    }
   ],
   "source": [
    "#3\n",
    "a=5\n",
    "print(a)\n",
    "print(a*2)\n",
    "print(a*2-(1))"
   ]
  },
  {
   "cell_type": "code",
   "execution_count": 1,
   "id": "76282f73",
   "metadata": {},
   "outputs": [
    {
     "name": "stdout",
     "output_type": "stream",
     "text": [
      "Enter a number: 5\n",
      "5 10 15 20 25\n"
     ]
    }
   ],
   "source": [
    "#5\n",
    "a=int(input(\"Enter a number: \"))\n",
    "b,c,d,e=a*2,a*3,a*4,a*5\n",
    "print(a,b,c,d,e)"
   ]
  },
  {
   "cell_type": "code",
   "execution_count": 58,
   "id": "699a9582",
   "metadata": {},
   "outputs": [
    {
     "name": "stdout",
     "output_type": "stream",
     "text": [
      "Enter the marks obtained in Mathematics: 89\n",
      "Enter the marks obtained in English: 88\n",
      "Enter the marks obtained in Hindi: 87\n",
      "Enter the marks obtained in Science: 90\n",
      "Enter the marks obtained in Social Studies: 89\n",
      "The average marks of 5 subjects of this particular student is:  88.6\n",
      "This student has hidden potential which is required to be unlocked\n"
     ]
    }
   ],
   "source": [
    "#6\n",
    "maths=int(input(\"Enter the marks obtained in Mathematics: \"))\n",
    "eng=int(input(\"Enter the marks obtained in English: \"))\n",
    "hin=int(input(\"Enter the marks obtained in Hindi: \"))\n",
    "sci=int(input(\"Enter the marks obtained in Science: \"))\n",
    "sst=int(input(\"Enter the marks obtained in Social Studies: \"))\n",
    "average_marks= (maths+eng+hin+sci+sst)/5\n",
    "print(\"The average marks of 5 subjects of this particular student is: \",average_marks)\n",
    "if (average_marks>90):\n",
    "    print(\"The performance of this student is exceptional\")\n",
    "else:\n",
    "    print(\"This student has hidden potential which is required to be unlocked\")"
   ]
  },
  {
   "cell_type": "code",
   "execution_count": 2,
   "id": "d1d67346",
   "metadata": {},
   "outputs": [
    {
     "name": "stdout",
     "output_type": "stream",
     "text": [
      "Enter your height in centimetres: 178\n",
      "Your height is  5.0 feet and  10.078740157480311 inches\n"
     ]
    }
   ],
   "source": [
    "#7\n",
    "cm=int(input(\"Enter your height in centimetres: \"))\n",
    "inch= cm/2.54\n",
    "feet= inch//12\n",
    "inches= inch%12\n",
    "print(\"Your height is \",feet,\"feet and \",inches,\"inches\")"
   ]
  },
  {
   "cell_type": "code",
   "execution_count": 3,
   "id": "116803f2",
   "metadata": {},
   "outputs": [
    {
     "name": "stdout",
     "output_type": "stream",
     "text": [
      "Enter the value of n: 4\n",
      "16 64 256\n"
     ]
    }
   ],
   "source": [
    "#8\n",
    "n=int(input(\"Enter the value of n: \"))\n",
    "print(n**2,n**3,n**4)"
   ]
  },
  {
   "cell_type": "code",
   "execution_count": 12,
   "id": "d57ff8ef",
   "metadata": {},
   "outputs": [
    {
     "name": "stdout",
     "output_type": "stream",
     "text": [
      "Enter principal amount: 10000\n",
      "Enter the rate of interest: 4\n",
      "Enter the time: 4\n",
      "Simple interest-  1600.0\n",
      "compound interest-  1698.5856000000022\n"
     ]
    }
   ],
   "source": [
    "#9\n",
    "p= float(input(\"Enter principal amount: \"))\n",
    "r= float(input(\"Enter the rate of interest: \"))\n",
    "t= int(input(\"Enter the time: \"))\n",
    "si = (p*r*t)/100\n",
    "ci= p*(((1+(r/100))**t)-1) \n",
    "print(\"Simple interest- \",si)\n",
    "print(\"compound interest- \",ci)"
   ]
  },
  {
   "cell_type": "code",
   "execution_count": 13,
   "id": "acb3f112",
   "metadata": {},
   "outputs": [
    {
     "name": "stdout",
     "output_type": "stream",
     "text": [
      "Enter the number you want to multiply: 5\n",
      "5 10 15 20 25\n"
     ]
    }
   ],
   "source": [
    "#10\n",
    "n1=int(input(\"Enter the number you want to multiply: \"))\n",
    "n2,n3,n4,n5= (n1*2,n1*3,n1*4,n1*5)\n",
    "print(n1,n2,n3,n4,n5)"
   ]
  },
  {
   "cell_type": "code",
   "execution_count": 16,
   "id": "b8dcfdbd",
   "metadata": {},
   "outputs": [
    {
     "name": "stdout",
     "output_type": "stream",
     "text": [
      "Enter the nameof the student: Manohar \n",
      "Enter the class of the student: 11th\n",
      "Enter the age of the student: 18\n",
      "The name is Manohar  , class is 11th and age is 18 .\n",
      "\n",
      "\n",
      "Manohar \n",
      "11th\n",
      "18\n"
     ]
    }
   ],
   "source": [
    "#11\n",
    "n=input(\"Enter the nameof the student: \")\n",
    "c= (input(\"Enter the class of the student: \"))\n",
    "a= int(input(\"Enter the age of the student: \"))\n",
    "print (\"The name is\",n,\", class is\",c,\"and age is\",a,\".\")\n",
    "print()\n",
    "print()\n",
    "print (n)\n",
    "print(c)\n",
    "print(a)"
   ]
  },
  {
   "cell_type": "code",
   "execution_count": null,
   "id": "0e8af6d9",
   "metadata": {},
   "outputs": [],
   "source": []
  },
  {
   "cell_type": "code",
   "execution_count": null,
   "id": "d60110aa",
   "metadata": {},
   "outputs": [],
   "source": []
  }
 ],
 "metadata": {
  "kernelspec": {
   "display_name": "Python 3 (ipykernel)",
   "language": "python",
   "name": "python3"
  },
  "language_info": {
   "codemirror_mode": {
    "name": "ipython",
    "version": 3
   },
   "file_extension": ".py",
   "mimetype": "text/x-python",
   "name": "python",
   "nbconvert_exporter": "python",
   "pygments_lexer": "ipython3",
   "version": "3.9.12"
  }
 },
 "nbformat": 4,
 "nbformat_minor": 5
}
