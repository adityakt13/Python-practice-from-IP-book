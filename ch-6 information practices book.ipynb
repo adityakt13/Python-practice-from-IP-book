{
 "cells": [
  {
   "cell_type": "code",
   "execution_count": 3,
   "metadata": {},
   "outputs": [
    {
     "name": "stdout",
     "output_type": "stream",
     "text": [
      "9499.05\n"
     ]
    }
   ],
   "source": [
    "amount = int(input(\"Enter the amount of sales: \"))\n",
    "if amount >= 10000:\n",
    "    discount = amount * 0.10\n",
    "else:\n",
    "    discount = amount * 0.05\n",
    "selling_amount = amount - discount\n",
    "print(selling_amount)"
   ]
  },
  {
   "cell_type": "code",
   "execution_count": 11,
   "metadata": {},
   "outputs": [
    {
     "data": {
      "text/plain": [
       "9999.0"
      ]
     },
     "execution_count": 11,
     "metadata": {},
     "output_type": "execute_result"
    }
   ],
   "source": []
  },
  {
   "cell_type": "code",
   "execution_count": null,
   "metadata": {},
   "outputs": [],
   "source": []
  }
 ],
 "metadata": {
  "kernelspec": {
   "display_name": "base",
   "language": "python",
   "name": "python3"
  },
  "language_info": {
   "codemirror_mode": {
    "name": "ipython",
    "version": 3
   },
   "file_extension": ".py",
   "mimetype": "text/x-python",
   "name": "python",
   "nbconvert_exporter": "python",
   "pygments_lexer": "ipython3",
   "version": "3.9.12"
  },
  "orig_nbformat": 4,
  "vscode": {
   "interpreter": {
    "hash": "c28b3cece02bc02c12fa5766a988d4443922620539affbc7b46a193a80d0f256"
   }
  }
 },
 "nbformat": 4,
 "nbformat_minor": 2
}
