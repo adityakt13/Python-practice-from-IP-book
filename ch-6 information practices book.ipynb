{
 "cells": [
  {
   "cell_type": "code",
   "execution_count": 3,
   "metadata": {},
   "outputs": [
    {
     "name": "stdout",
     "output_type": "stream",
     "text": [
      "9499.05\n"
     ]
    }
   ],
   "source": [
    "amount = int(input(\"Enter the amount of sales: \"))\n",
    "if amount >= 10000:\n",
    "    discount = amount * 0.10\n",
    "else:\n",
    "    discount = amount * 0.05\n",
    "selling_amount = amount - discount\n",
    "print(selling_amount)"
   ]
  },
  {
   "cell_type": "code",
   "execution_count": 26,
   "metadata": {},
   "outputs": [
    {
     "name": "stdout",
     "output_type": "stream",
     "text": [
      "You entered a space.\n"
     ]
    }
   ],
   "source": [
    "ch = input(\"Enter a single input: \")\n",
    "if ch == \" \":\n",
    "    print(\"You entered a space.\")\n",
    "elif ch >= '0' or ch<= '9':\n",
    "    print(\"You entered a digit\")\n"
   ]
  },
  {
   "cell_type": "code",
   "execution_count": 29,
   "metadata": {},
   "outputs": [
    {
     "name": "stdout",
     "output_type": "stream",
     "text": [
      "The answer will be -23\n",
      "Program successfully executed\n"
     ]
    }
   ],
   "source": [
    "a = int(input(\"Enter first integer: \"))\n",
    "b = int(input(\"Enter second integer: \"))\n",
    "if a >=10 and b <=15:\n",
    "    c = (a-b) * (a+b)\n",
    "    print(f\"The answer will be {c}\")\n",
    "    print(\"Program successfully executed\")"
   ]
  },
  {
   "cell_type": "code",
   "execution_count": 37,
   "metadata": {},
   "outputs": [
    {
     "name": "stdout",
     "output_type": "stream",
     "text": [
      "The input which is 7, is an odd number\n"
     ]
    }
   ],
   "source": [
    "number = int(input(\"Enter a number: \"))\n",
    "if number % 2 != 0 :\n",
    "    print (f\"The input which is {number}, is an odd number\")\n",
    "else:\n",
    "    print (f\"The input which is {number}, is an even number\")"
   ]
  },
  {
   "cell_type": "code",
   "execution_count": 46,
   "metadata": {},
   "outputs": [
    {
     "name": "stdout",
     "output_type": "stream",
     "text": [
      " is the maximum value 90.0\n"
     ]
    }
   ],
   "source": [
    "a = b = c = 0\n",
    "a = float(input(\"Enter the value of a: \"))\n",
    "b = float(input(\"Enter the value of b: \"))\n",
    "c = float(input(\"Enter the value of c: \"))\n",
    "max = a\n",
    "if b > max:\n",
    "    max = b\n",
    "if c > max:\n",
    "    max = c\n",
    "    print(\" is the maximum value\",max)"
   ]
  },
  {
   "cell_type": "code",
   "execution_count": 50,
   "metadata": {},
   "outputs": [
    {
     "name": "stdout",
     "output_type": "stream",
     "text": [
      "The numbers are 7, 9, 70.\n",
      "The sum of these numbers is 86 .\n",
      "The sum of non-duplicate numbers is 70 .\n"
     ]
    }
   ],
   "source": [
    "# doing sum of duplicate and non duplicate numbers\n",
    "num1 = int(input(\"Enter a number: \"))\n",
    "num2 = int(input(\"Enter a number: \"))\n",
    "num3 = int(input(\"Enter a number: \"))\n",
    "sum = num1 +num2 +num3\n",
    "if num1 != num2 and num1 != num3:\n",
    "    sum1 = num1\n",
    "if num2 != num1 and num2 != num3:\n",
    "    sum1 = num2\n",
    "if num3 != num1 and num3 != num2:\n",
    "    sum1 = num3\n",
    "print(f\"The numbers are {num1}, {num2}, {num3}.\")\n",
    "print(\"The sum of these numbers is\",sum,\".\")\n",
    "print(\"The sum of non-duplicate numbers is\",sum1,\".\")"
   ]
  },
  {
   "cell_type": "code",
   "execution_count": 68,
   "metadata": {},
   "outputs": [
    {
     "name": "stdout",
     "output_type": "stream",
     "text": [
      "Pretty good, you hit a half century and scored 56 runs last time when you played.\n"
     ]
    }
   ],
   "source": [
    "# elif statement\n",
    "runs = int(input(\"Enter your batting score while you last played.\"))\n",
    "if runs >= 100:\n",
    "    print(f\"Wow, your last score was {runs} runs, that means you hit a century.\")\n",
    "elif runs >= 50 :\n",
    "    print(f\"Pretty good, you hit a half century and scored {runs} runs last time when you played.\")\n",
    "else:\n",
    "    print(\"You neither scored a half-century nor a century.\")"
   ]
  }
 ],
 "metadata": {
  "kernelspec": {
   "display_name": "base",
   "language": "python",
   "name": "python3"
  },
  "language_info": {
   "codemirror_mode": {
    "name": "ipython",
    "version": 3
   },
   "file_extension": ".py",
   "mimetype": "text/x-python",
   "name": "python",
   "nbconvert_exporter": "python",
   "pygments_lexer": "ipython3",
   "version": "3.9.12 (main, Apr  4 2022, 05:22:27) [MSC v.1916 64 bit (AMD64)]"
  },
  "orig_nbformat": 4,
  "vscode": {
   "interpreter": {
    "hash": "c28b3cece02bc02c12fa5766a988d4443922620539affbc7b46a193a80d0f256"
   }
  }
 },
 "nbformat": 4,
 "nbformat_minor": 2
}
