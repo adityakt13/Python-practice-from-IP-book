{
 "cells": [
  {
   "cell_type": "code",
   "execution_count": 1,
   "id": "cac47874",
   "metadata": {},
   "outputs": [
    {
     "data": {
      "text/plain": [
       "247151497792"
      ]
     },
     "execution_count": 1,
     "metadata": {},
     "output_type": "execute_result"
    }
   ],
   "source": [
    "chk=[2,4,6]\n",
    "id(chk)"
   ]
  },
  {
   "cell_type": "code",
   "execution_count": 2,
   "id": "ef7728a5",
   "metadata": {},
   "outputs": [
    {
     "data": {
      "text/plain": [
       "247151505600"
      ]
     },
     "execution_count": 2,
     "metadata": {},
     "output_type": "execute_result"
    }
   ],
   "source": [
    "chk1=[3,5,7]\n",
    "id(chk1)"
   ]
  },
  {
   "cell_type": "code",
   "execution_count": 3,
   "id": "0a7700a5",
   "metadata": {},
   "outputs": [
    {
     "data": {
      "text/plain": [
       "247034505648"
      ]
     },
     "execution_count": 3,
     "metadata": {},
     "output_type": "execute_result"
    }
   ],
   "source": [
    "id(5)"
   ]
  },
  {
   "cell_type": "code",
   "execution_count": 4,
   "id": "8f3d9ae0",
   "metadata": {},
   "outputs": [
    {
     "data": {
      "text/plain": [
       "247034505616"
      ]
     },
     "execution_count": 4,
     "metadata": {},
     "output_type": "execute_result"
    }
   ],
   "source": [
    "id(4)"
   ]
  },
  {
   "cell_type": "code",
   "execution_count": 5,
   "id": "78814721",
   "metadata": {},
   "outputs": [
    {
     "data": {
      "text/plain": [
       "247034505584"
      ]
     },
     "execution_count": 5,
     "metadata": {},
     "output_type": "execute_result"
    }
   ],
   "source": [
    "id(4-1)"
   ]
  },
  {
   "cell_type": "code",
   "execution_count": 6,
   "id": "09b7eac4",
   "metadata": {},
   "outputs": [
    {
     "data": {
      "text/plain": [
       "247034505648"
      ]
     },
     "execution_count": 6,
     "metadata": {},
     "output_type": "execute_result"
    }
   ],
   "source": [
    "id(3+2)"
   ]
  },
  {
   "cell_type": "code",
   "execution_count": 7,
   "id": "c9f7d43f",
   "metadata": {},
   "outputs": [
    {
     "data": {
      "text/plain": [
       "44"
      ]
     },
     "execution_count": 7,
     "metadata": {},
     "output_type": "execute_result"
    }
   ],
   "source": [
    "a=45\n",
    "a=a-1\n",
    "a"
   ]
  },
  {
   "cell_type": "code",
   "execution_count": 8,
   "id": "3e71ef49",
   "metadata": {},
   "outputs": [
    {
     "name": "stdout",
     "output_type": "stream",
     "text": [
      "247034506896\n"
     ]
    }
   ],
   "source": [
    "print(id(a))"
   ]
  },
  {
   "cell_type": "code",
   "execution_count": 9,
   "id": "7562a113",
   "metadata": {},
   "outputs": [
    {
     "name": "stdout",
     "output_type": "stream",
     "text": [
      "247034505616\n"
     ]
    }
   ],
   "source": [
    "print(id(a-40))"
   ]
  },
  {
   "cell_type": "code",
   "execution_count": 10,
   "id": "d1cf9666",
   "metadata": {},
   "outputs": [],
   "source": [
    "a=4"
   ]
  },
  {
   "cell_type": "code",
   "execution_count": 11,
   "id": "bf0a9294",
   "metadata": {},
   "outputs": [],
   "source": [
    "b=5"
   ]
  },
  {
   "cell_type": "code",
   "execution_count": 12,
   "id": "e2c3ae35",
   "metadata": {},
   "outputs": [],
   "source": [
    "b=b-1"
   ]
  },
  {
   "cell_type": "code",
   "execution_count": 13,
   "id": "bb973749",
   "metadata": {},
   "outputs": [
    {
     "data": {
      "text/plain": [
       "247034505616"
      ]
     },
     "execution_count": 13,
     "metadata": {},
     "output_type": "execute_result"
    }
   ],
   "source": [
    "id(a)"
   ]
  },
  {
   "cell_type": "code",
   "execution_count": 14,
   "id": "5da5979b",
   "metadata": {},
   "outputs": [
    {
     "data": {
      "text/plain": [
       "247034505616"
      ]
     },
     "execution_count": 14,
     "metadata": {},
     "output_type": "execute_result"
    }
   ],
   "source": [
    "id(b)"
   ]
  },
  {
   "cell_type": "code",
   "execution_count": 15,
   "id": "c429bb09",
   "metadata": {},
   "outputs": [
    {
     "data": {
      "text/plain": [
       "-1"
      ]
     },
     "execution_count": 15,
     "metadata": {},
     "output_type": "execute_result"
    }
   ],
   "source": [
    "a =-5\n",
    "b=4\n",
    "c=a+b\n",
    "c"
   ]
  },
  {
   "cell_type": "code",
   "execution_count": 16,
   "id": "ba3851c7",
   "metadata": {},
   "outputs": [
    {
     "data": {
      "text/plain": [
       "2.75"
      ]
     },
     "execution_count": 16,
     "metadata": {},
     "output_type": "execute_result"
    }
   ],
   "source": [
    "\n",
    "5.5/2"
   ]
  },
  {
   "cell_type": "code",
   "execution_count": 17,
   "id": "d192da1f",
   "metadata": {},
   "outputs": [
    {
     "data": {
      "text/plain": [
       "1"
      ]
     },
     "execution_count": 17,
     "metadata": {},
     "output_type": "execute_result"
    }
   ],
   "source": [
    "4//3"
   ]
  },
  {
   "cell_type": "code",
   "execution_count": 18,
   "id": "8b140a1d",
   "metadata": {},
   "outputs": [
    {
     "name": "stdout",
     "output_type": "stream",
     "text": [
      "44.19642857142857 Sq. metres\n"
     ]
    }
   ],
   "source": [
    "#Example 5.2 (page no.- 118)\n",
    "Radius = 3.75\n",
    "Pie = 22/7\n",
    "area = Pie * Radius**2\n",
    "print (area,\"Sq. metres\")"
   ]
  },
  {
   "cell_type": "code",
   "execution_count": 19,
   "id": "c78a4e35",
   "metadata": {},
   "outputs": [
    {
     "data": {
      "text/plain": [
       "3.0"
      ]
     },
     "execution_count": 19,
     "metadata": {},
     "output_type": "execute_result"
    }
   ],
   "source": [
    "#  In normal division the answer would've been 3.65 but when we use floor idvision operator (//) ,\n",
    "# the fractional value which is 0.65 gets discarded \n",
    "7.3//2 "
   ]
  },
  {
   "cell_type": "code",
   "execution_count": 20,
   "id": "dd51f7a0",
   "metadata": {},
   "outputs": [
    {
     "data": {
      "text/plain": [
       "1"
      ]
     },
     "execution_count": 20,
     "metadata": {},
     "output_type": "execute_result"
    }
   ],
   "source": [
    "19%6"
   ]
  },
  {
   "cell_type": "code",
   "execution_count": 21,
   "id": "e2ac176b",
   "metadata": {},
   "outputs": [
    {
     "data": {
      "text/plain": [
       "3"
      ]
     },
     "execution_count": 21,
     "metadata": {},
     "output_type": "execute_result"
    }
   ],
   "source": [
    "19%4 #4 goes into 19 four times(16) leaving the remainder 3"
   ]
  },
  {
   "cell_type": "code",
   "execution_count": 22,
   "id": "fd182d36",
   "metadata": {},
   "outputs": [
    {
     "data": {
      "text/plain": [
       "7.0"
      ]
     },
     "execution_count": 22,
     "metadata": {},
     "output_type": "execute_result"
    }
   ],
   "source": [
    "x=0.5 #   *0.5 is used for square root\n",
    "49**x"
   ]
  },
  {
   "cell_type": "code",
   "execution_count": 23,
   "id": "1ed08851",
   "metadata": {},
   "outputs": [
    {
     "data": {
      "text/plain": [
       "46656"
      ]
     },
     "execution_count": 23,
     "metadata": {},
     "output_type": "execute_result"
    }
   ],
   "source": [
    "36**3"
   ]
  },
  {
   "cell_type": "code",
   "execution_count": 24,
   "id": "7a737ac1",
   "metadata": {},
   "outputs": [
    {
     "data": {
      "text/plain": [
       "7753.5"
      ]
     },
     "execution_count": 24,
     "metadata": {},
     "output_type": "execute_result"
    }
   ],
   "source": [
    "1674756/6**3"
   ]
  },
  {
   "cell_type": "code",
   "execution_count": 25,
   "id": "0bd5b3f8",
   "metadata": {},
   "outputs": [
    {
     "data": {
      "text/plain": [
       "46656.0"
      ]
     },
     "execution_count": 25,
     "metadata": {},
     "output_type": "execute_result"
    }
   ],
   "source": [
    "279936/6"
   ]
  },
  {
   "cell_type": "code",
   "execution_count": null,
   "id": "3ebe862d",
   "metadata": {},
   "outputs": [],
   "source": []
  }
 ],
 "metadata": {
  "kernelspec": {
   "display_name": "Python 3.9.12 ('base')",
   "language": "python",
   "name": "python3"
  },
  "language_info": {
   "codemirror_mode": {
    "name": "ipython",
    "version": 3
   },
   "file_extension": ".py",
   "mimetype": "text/x-python",
   "name": "python",
   "nbconvert_exporter": "python",
   "pygments_lexer": "ipython3",
   "version": "3.9.12"
  },
  "vscode": {
   "interpreter": {
    "hash": "c28b3cece02bc02c12fa5766a988d4443922620539affbc7b46a193a80d0f256"
   }
  }
 },
 "nbformat": 4,
 "nbformat_minor": 5
}
